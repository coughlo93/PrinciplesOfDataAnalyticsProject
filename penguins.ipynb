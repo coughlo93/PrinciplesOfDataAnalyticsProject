{
 "cells": [
  {
   "cell_type": "markdown",
   "metadata": {},
   "source": [
    "# Palmer Penguins\n",
    "\n",
    "![Penguins](https://allisonhorst.github.io/palmerpenguins/reference/figures/lter_penguins.png)\n",
    "\n",
    "This notebook contains my analysis of the famous palmer penguins dataset.\n",
    "\n",
    "Artwork by Allison Horst\n",
    "\n",
    "The dataset is available [on GitHub](https://allisonhorst.github.io/palmerpenguins/)."
   ]
  },
  {
   "cell_type": "markdown",
   "metadata": {},
   "source": [
    "## Imports\n",
    "\n",
    "***\n",
    "\n",
    "To analyse this data, I have used the Pandas Python package. This package allowed me to import the data from CSV and other data types in this Jupyter notebook. With this package, it is also possible to apply the DataFrame that I will use to analyse the presentation of each variable and to make comparisons between them."
   ]
  },
  {
   "cell_type": "code",
   "execution_count": 1,
   "metadata": {},
   "outputs": [],
   "source": [
    "# data frames.\n",
    "import pandas as pd"
   ]
  },
  {
   "cell_type": "markdown",
   "metadata": {},
   "source": [
    "## Load Data\n",
    "\n",
    "***\n",
    "\n",
    "Firstly I loaded the Palmer Penguins dataset from a URL. \n",
    "\n",
    "The URL that I used is [penguins.csv](https://github.com/mwaskom/seaborn-data/blob/master/penguins.csv).\n",
    "\n",
    "This was from the Seaborn Data repository on Github \n"
   ]
  }
 ],
 "metadata": {
  "kernelspec": {
   "display_name": "base",
   "language": "python",
   "name": "python3"
  },
  "language_info": {
   "codemirror_mode": {
    "name": "ipython",
    "version": 3
   },
   "file_extension": ".py",
   "mimetype": "text/x-python",
   "name": "python",
   "nbconvert_exporter": "python",
   "pygments_lexer": "ipython3",
   "version": "3.11.5"
  }
 },
 "nbformat": 4,
 "nbformat_minor": 2
}
